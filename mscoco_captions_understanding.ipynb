{
 "cells": [
  {
   "cell_type": "code",
   "execution_count": 9,
   "metadata": {},
   "outputs": [],
   "source": [
    "import numpy as np\n",
    "import pandas as pd"
   ]
  },
  {
   "cell_type": "code",
   "execution_count": 10,
   "metadata": {},
   "outputs": [],
   "source": [
    "captions = np.load('data/mscoco/all_captions.npy')\n",
    "captions = [c[:5] for c in captions]\n",
    "sentences = []\n",
    "for c in captions:\n",
    "    sentences += c"
   ]
  },
  {
   "cell_type": "code",
   "execution_count": 6,
   "metadata": {},
   "outputs": [
    {
     "name": "stdout",
     "output_type": "stream",
     "text": [
      "INFO:tensorflow:Initialize variable module_2/aggregation/scaling:0 from checkpoint b'/tmp/tfhub_modules/0eadd30f548cbfd3065119697ded6bb381668285/variables/variables' with aggregation/scaling\n",
      "INFO:tensorflow:Initialize variable module_2/aggregation/weights:0 from checkpoint b'/tmp/tfhub_modules/0eadd30f548cbfd3065119697ded6bb381668285/variables/variables' with aggregation/weights\n",
      "INFO:tensorflow:Initialize variable module_2/bilm/CNN/W_cnn_0:0 from checkpoint b'/tmp/tfhub_modules/0eadd30f548cbfd3065119697ded6bb381668285/variables/variables' with bilm/CNN/W_cnn_0\n",
      "INFO:tensorflow:Initialize variable module_2/bilm/CNN/W_cnn_1:0 from checkpoint b'/tmp/tfhub_modules/0eadd30f548cbfd3065119697ded6bb381668285/variables/variables' with bilm/CNN/W_cnn_1\n",
      "INFO:tensorflow:Initialize variable module_2/bilm/CNN/W_cnn_2:0 from checkpoint b'/tmp/tfhub_modules/0eadd30f548cbfd3065119697ded6bb381668285/variables/variables' with bilm/CNN/W_cnn_2\n",
      "INFO:tensorflow:Initialize variable module_2/bilm/CNN/W_cnn_3:0 from checkpoint b'/tmp/tfhub_modules/0eadd30f548cbfd3065119697ded6bb381668285/variables/variables' with bilm/CNN/W_cnn_3\n",
      "INFO:tensorflow:Initialize variable module_2/bilm/CNN/W_cnn_4:0 from checkpoint b'/tmp/tfhub_modules/0eadd30f548cbfd3065119697ded6bb381668285/variables/variables' with bilm/CNN/W_cnn_4\n",
      "INFO:tensorflow:Initialize variable module_2/bilm/CNN/W_cnn_5:0 from checkpoint b'/tmp/tfhub_modules/0eadd30f548cbfd3065119697ded6bb381668285/variables/variables' with bilm/CNN/W_cnn_5\n",
      "INFO:tensorflow:Initialize variable module_2/bilm/CNN/W_cnn_6:0 from checkpoint b'/tmp/tfhub_modules/0eadd30f548cbfd3065119697ded6bb381668285/variables/variables' with bilm/CNN/W_cnn_6\n",
      "INFO:tensorflow:Initialize variable module_2/bilm/CNN/b_cnn_0:0 from checkpoint b'/tmp/tfhub_modules/0eadd30f548cbfd3065119697ded6bb381668285/variables/variables' with bilm/CNN/b_cnn_0\n",
      "INFO:tensorflow:Initialize variable module_2/bilm/CNN/b_cnn_1:0 from checkpoint b'/tmp/tfhub_modules/0eadd30f548cbfd3065119697ded6bb381668285/variables/variables' with bilm/CNN/b_cnn_1\n",
      "INFO:tensorflow:Initialize variable module_2/bilm/CNN/b_cnn_2:0 from checkpoint b'/tmp/tfhub_modules/0eadd30f548cbfd3065119697ded6bb381668285/variables/variables' with bilm/CNN/b_cnn_2\n",
      "INFO:tensorflow:Initialize variable module_2/bilm/CNN/b_cnn_3:0 from checkpoint b'/tmp/tfhub_modules/0eadd30f548cbfd3065119697ded6bb381668285/variables/variables' with bilm/CNN/b_cnn_3\n",
      "INFO:tensorflow:Initialize variable module_2/bilm/CNN/b_cnn_4:0 from checkpoint b'/tmp/tfhub_modules/0eadd30f548cbfd3065119697ded6bb381668285/variables/variables' with bilm/CNN/b_cnn_4\n",
      "INFO:tensorflow:Initialize variable module_2/bilm/CNN/b_cnn_5:0 from checkpoint b'/tmp/tfhub_modules/0eadd30f548cbfd3065119697ded6bb381668285/variables/variables' with bilm/CNN/b_cnn_5\n",
      "INFO:tensorflow:Initialize variable module_2/bilm/CNN/b_cnn_6:0 from checkpoint b'/tmp/tfhub_modules/0eadd30f548cbfd3065119697ded6bb381668285/variables/variables' with bilm/CNN/b_cnn_6\n",
      "INFO:tensorflow:Initialize variable module_2/bilm/CNN_high_0/W_carry:0 from checkpoint b'/tmp/tfhub_modules/0eadd30f548cbfd3065119697ded6bb381668285/variables/variables' with bilm/CNN_high_0/W_carry\n",
      "INFO:tensorflow:Initialize variable module_2/bilm/CNN_high_0/W_transform:0 from checkpoint b'/tmp/tfhub_modules/0eadd30f548cbfd3065119697ded6bb381668285/variables/variables' with bilm/CNN_high_0/W_transform\n",
      "INFO:tensorflow:Initialize variable module_2/bilm/CNN_high_0/b_carry:0 from checkpoint b'/tmp/tfhub_modules/0eadd30f548cbfd3065119697ded6bb381668285/variables/variables' with bilm/CNN_high_0/b_carry\n",
      "INFO:tensorflow:Initialize variable module_2/bilm/CNN_high_0/b_transform:0 from checkpoint b'/tmp/tfhub_modules/0eadd30f548cbfd3065119697ded6bb381668285/variables/variables' with bilm/CNN_high_0/b_transform\n",
      "INFO:tensorflow:Initialize variable module_2/bilm/CNN_high_1/W_carry:0 from checkpoint b'/tmp/tfhub_modules/0eadd30f548cbfd3065119697ded6bb381668285/variables/variables' with bilm/CNN_high_1/W_carry\n",
      "INFO:tensorflow:Initialize variable module_2/bilm/CNN_high_1/W_transform:0 from checkpoint b'/tmp/tfhub_modules/0eadd30f548cbfd3065119697ded6bb381668285/variables/variables' with bilm/CNN_high_1/W_transform\n",
      "INFO:tensorflow:Initialize variable module_2/bilm/CNN_high_1/b_carry:0 from checkpoint b'/tmp/tfhub_modules/0eadd30f548cbfd3065119697ded6bb381668285/variables/variables' with bilm/CNN_high_1/b_carry\n",
      "INFO:tensorflow:Initialize variable module_2/bilm/CNN_high_1/b_transform:0 from checkpoint b'/tmp/tfhub_modules/0eadd30f548cbfd3065119697ded6bb381668285/variables/variables' with bilm/CNN_high_1/b_transform\n",
      "INFO:tensorflow:Initialize variable module_2/bilm/CNN_proj/W_proj:0 from checkpoint b'/tmp/tfhub_modules/0eadd30f548cbfd3065119697ded6bb381668285/variables/variables' with bilm/CNN_proj/W_proj\n",
      "INFO:tensorflow:Initialize variable module_2/bilm/CNN_proj/b_proj:0 from checkpoint b'/tmp/tfhub_modules/0eadd30f548cbfd3065119697ded6bb381668285/variables/variables' with bilm/CNN_proj/b_proj\n",
      "INFO:tensorflow:Initialize variable module_2/bilm/RNN_0/RNN/MultiRNNCell/Cell0/rnn/lstm_cell/bias:0 from checkpoint b'/tmp/tfhub_modules/0eadd30f548cbfd3065119697ded6bb381668285/variables/variables' with bilm/RNN_0/RNN/MultiRNNCell/Cell0/rnn/lstm_cell/bias\n",
      "INFO:tensorflow:Initialize variable module_2/bilm/RNN_0/RNN/MultiRNNCell/Cell0/rnn/lstm_cell/kernel:0 from checkpoint b'/tmp/tfhub_modules/0eadd30f548cbfd3065119697ded6bb381668285/variables/variables' with bilm/RNN_0/RNN/MultiRNNCell/Cell0/rnn/lstm_cell/kernel\n",
      "INFO:tensorflow:Initialize variable module_2/bilm/RNN_0/RNN/MultiRNNCell/Cell0/rnn/lstm_cell/projection/kernel:0 from checkpoint b'/tmp/tfhub_modules/0eadd30f548cbfd3065119697ded6bb381668285/variables/variables' with bilm/RNN_0/RNN/MultiRNNCell/Cell0/rnn/lstm_cell/projection/kernel\n",
      "INFO:tensorflow:Initialize variable module_2/bilm/RNN_0/RNN/MultiRNNCell/Cell1/rnn/lstm_cell/bias:0 from checkpoint b'/tmp/tfhub_modules/0eadd30f548cbfd3065119697ded6bb381668285/variables/variables' with bilm/RNN_0/RNN/MultiRNNCell/Cell1/rnn/lstm_cell/bias\n",
      "INFO:tensorflow:Initialize variable module_2/bilm/RNN_0/RNN/MultiRNNCell/Cell1/rnn/lstm_cell/kernel:0 from checkpoint b'/tmp/tfhub_modules/0eadd30f548cbfd3065119697ded6bb381668285/variables/variables' with bilm/RNN_0/RNN/MultiRNNCell/Cell1/rnn/lstm_cell/kernel\n",
      "INFO:tensorflow:Initialize variable module_2/bilm/RNN_0/RNN/MultiRNNCell/Cell1/rnn/lstm_cell/projection/kernel:0 from checkpoint b'/tmp/tfhub_modules/0eadd30f548cbfd3065119697ded6bb381668285/variables/variables' with bilm/RNN_0/RNN/MultiRNNCell/Cell1/rnn/lstm_cell/projection/kernel\n",
      "INFO:tensorflow:Initialize variable module_2/bilm/RNN_1/RNN/MultiRNNCell/Cell0/rnn/lstm_cell/bias:0 from checkpoint b'/tmp/tfhub_modules/0eadd30f548cbfd3065119697ded6bb381668285/variables/variables' with bilm/RNN_1/RNN/MultiRNNCell/Cell0/rnn/lstm_cell/bias\n",
      "INFO:tensorflow:Initialize variable module_2/bilm/RNN_1/RNN/MultiRNNCell/Cell0/rnn/lstm_cell/kernel:0 from checkpoint b'/tmp/tfhub_modules/0eadd30f548cbfd3065119697ded6bb381668285/variables/variables' with bilm/RNN_1/RNN/MultiRNNCell/Cell0/rnn/lstm_cell/kernel\n",
      "INFO:tensorflow:Initialize variable module_2/bilm/RNN_1/RNN/MultiRNNCell/Cell0/rnn/lstm_cell/projection/kernel:0 from checkpoint b'/tmp/tfhub_modules/0eadd30f548cbfd3065119697ded6bb381668285/variables/variables' with bilm/RNN_1/RNN/MultiRNNCell/Cell0/rnn/lstm_cell/projection/kernel\n",
      "INFO:tensorflow:Initialize variable module_2/bilm/RNN_1/RNN/MultiRNNCell/Cell1/rnn/lstm_cell/bias:0 from checkpoint b'/tmp/tfhub_modules/0eadd30f548cbfd3065119697ded6bb381668285/variables/variables' with bilm/RNN_1/RNN/MultiRNNCell/Cell1/rnn/lstm_cell/bias\n",
      "INFO:tensorflow:Initialize variable module_2/bilm/RNN_1/RNN/MultiRNNCell/Cell1/rnn/lstm_cell/kernel:0 from checkpoint b'/tmp/tfhub_modules/0eadd30f548cbfd3065119697ded6bb381668285/variables/variables' with bilm/RNN_1/RNN/MultiRNNCell/Cell1/rnn/lstm_cell/kernel\n",
      "INFO:tensorflow:Initialize variable module_2/bilm/RNN_1/RNN/MultiRNNCell/Cell1/rnn/lstm_cell/projection/kernel:0 from checkpoint b'/tmp/tfhub_modules/0eadd30f548cbfd3065119697ded6bb381668285/variables/variables' with bilm/RNN_1/RNN/MultiRNNCell/Cell1/rnn/lstm_cell/projection/kernel\n",
      "INFO:tensorflow:Initialize variable module_2/bilm/char_embed:0 from checkpoint b'/tmp/tfhub_modules/0eadd30f548cbfd3065119697ded6bb381668285/variables/variables' with bilm/char_embed\n"
     ]
    },
    {
     "name": "stdout",
     "output_type": "stream",
     "text": [
      "INFO:tensorflow:Initialize variable module_3/Embeddings_en/sharded_0:0 from checkpoint b'/tmp/tfhub_modules/c6f5954ffa065cdb2f2e604e740e8838bf21a2d3/variables/variables' with Embeddings_en/sharded_0\n",
      "INFO:tensorflow:Initialize variable module_3/Embeddings_en/sharded_1:0 from checkpoint b'/tmp/tfhub_modules/c6f5954ffa065cdb2f2e604e740e8838bf21a2d3/variables/variables' with Embeddings_en/sharded_1\n",
      "INFO:tensorflow:Initialize variable module_3/Embeddings_en/sharded_10:0 from checkpoint b'/tmp/tfhub_modules/c6f5954ffa065cdb2f2e604e740e8838bf21a2d3/variables/variables' with Embeddings_en/sharded_10\n",
      "INFO:tensorflow:Initialize variable module_3/Embeddings_en/sharded_11:0 from checkpoint b'/tmp/tfhub_modules/c6f5954ffa065cdb2f2e604e740e8838bf21a2d3/variables/variables' with Embeddings_en/sharded_11\n",
      "INFO:tensorflow:Initialize variable module_3/Embeddings_en/sharded_12:0 from checkpoint b'/tmp/tfhub_modules/c6f5954ffa065cdb2f2e604e740e8838bf21a2d3/variables/variables' with Embeddings_en/sharded_12\n",
      "INFO:tensorflow:Initialize variable module_3/Embeddings_en/sharded_13:0 from checkpoint b'/tmp/tfhub_modules/c6f5954ffa065cdb2f2e604e740e8838bf21a2d3/variables/variables' with Embeddings_en/sharded_13\n",
      "INFO:tensorflow:Initialize variable module_3/Embeddings_en/sharded_14:0 from checkpoint b'/tmp/tfhub_modules/c6f5954ffa065cdb2f2e604e740e8838bf21a2d3/variables/variables' with Embeddings_en/sharded_14\n",
      "INFO:tensorflow:Initialize variable module_3/Embeddings_en/sharded_15:0 from checkpoint b'/tmp/tfhub_modules/c6f5954ffa065cdb2f2e604e740e8838bf21a2d3/variables/variables' with Embeddings_en/sharded_15\n",
      "INFO:tensorflow:Initialize variable module_3/Embeddings_en/sharded_16:0 from checkpoint b'/tmp/tfhub_modules/c6f5954ffa065cdb2f2e604e740e8838bf21a2d3/variables/variables' with Embeddings_en/sharded_16\n",
      "INFO:tensorflow:Initialize variable module_3/Embeddings_en/sharded_2:0 from checkpoint b'/tmp/tfhub_modules/c6f5954ffa065cdb2f2e604e740e8838bf21a2d3/variables/variables' with Embeddings_en/sharded_2\n",
      "INFO:tensorflow:Initialize variable module_3/Embeddings_en/sharded_3:0 from checkpoint b'/tmp/tfhub_modules/c6f5954ffa065cdb2f2e604e740e8838bf21a2d3/variables/variables' with Embeddings_en/sharded_3\n",
      "INFO:tensorflow:Initialize variable module_3/Embeddings_en/sharded_4:0 from checkpoint b'/tmp/tfhub_modules/c6f5954ffa065cdb2f2e604e740e8838bf21a2d3/variables/variables' with Embeddings_en/sharded_4\n",
      "INFO:tensorflow:Initialize variable module_3/Embeddings_en/sharded_5:0 from checkpoint b'/tmp/tfhub_modules/c6f5954ffa065cdb2f2e604e740e8838bf21a2d3/variables/variables' with Embeddings_en/sharded_5\n",
      "INFO:tensorflow:Initialize variable module_3/Embeddings_en/sharded_6:0 from checkpoint b'/tmp/tfhub_modules/c6f5954ffa065cdb2f2e604e740e8838bf21a2d3/variables/variables' with Embeddings_en/sharded_6\n",
      "INFO:tensorflow:Initialize variable module_3/Embeddings_en/sharded_7:0 from checkpoint b'/tmp/tfhub_modules/c6f5954ffa065cdb2f2e604e740e8838bf21a2d3/variables/variables' with Embeddings_en/sharded_7\n",
      "INFO:tensorflow:Initialize variable module_3/Embeddings_en/sharded_8:0 from checkpoint b'/tmp/tfhub_modules/c6f5954ffa065cdb2f2e604e740e8838bf21a2d3/variables/variables' with Embeddings_en/sharded_8\n",
      "INFO:tensorflow:Initialize variable module_3/Embeddings_en/sharded_9:0 from checkpoint b'/tmp/tfhub_modules/c6f5954ffa065cdb2f2e604e740e8838bf21a2d3/variables/variables' with Embeddings_en/sharded_9\n",
      "INFO:tensorflow:Initialize variable module_3/Encoder_en/DNN/ResidualHidden_0/weights:0 from checkpoint b'/tmp/tfhub_modules/c6f5954ffa065cdb2f2e604e740e8838bf21a2d3/variables/variables' with Encoder_en/DNN/ResidualHidden_0/weights\n",
      "INFO:tensorflow:Initialize variable module_3/Encoder_en/DNN/ResidualHidden_1/weights:0 from checkpoint b'/tmp/tfhub_modules/c6f5954ffa065cdb2f2e604e740e8838bf21a2d3/variables/variables' with Encoder_en/DNN/ResidualHidden_1/weights\n",
      "INFO:tensorflow:Initialize variable module_3/Encoder_en/DNN/ResidualHidden_2/weights:0 from checkpoint b'/tmp/tfhub_modules/c6f5954ffa065cdb2f2e604e740e8838bf21a2d3/variables/variables' with Encoder_en/DNN/ResidualHidden_2/weights\n",
      "INFO:tensorflow:Initialize variable module_3/Encoder_en/DNN/ResidualHidden_3/projection:0 from checkpoint b'/tmp/tfhub_modules/c6f5954ffa065cdb2f2e604e740e8838bf21a2d3/variables/variables' with Encoder_en/DNN/ResidualHidden_3/projection\n",
      "INFO:tensorflow:Initialize variable module_3/Encoder_en/DNN/ResidualHidden_3/weights:0 from checkpoint b'/tmp/tfhub_modules/c6f5954ffa065cdb2f2e604e740e8838bf21a2d3/variables/variables' with Encoder_en/DNN/ResidualHidden_3/weights\n",
      "INFO:tensorflow:Initialize variable module_3/SHARED_RANK_ANSWER/response_encoder_0/tanh_layer_0/bias:0 from checkpoint b'/tmp/tfhub_modules/c6f5954ffa065cdb2f2e604e740e8838bf21a2d3/variables/variables' with SHARED_RANK_ANSWER/response_encoder_0/tanh_layer_0/bias\n",
      "INFO:tensorflow:Initialize variable module_3/SHARED_RANK_ANSWER/response_encoder_0/tanh_layer_0/weights:0 from checkpoint b'/tmp/tfhub_modules/c6f5954ffa065cdb2f2e604e740e8838bf21a2d3/variables/variables' with SHARED_RANK_ANSWER/response_encoder_0/tanh_layer_0/weights\n",
      "INFO:tensorflow:Initialize variable module_3/SHARED_RANK_ANSWER/response_encoder_0/tanh_layer_1/bias:0 from checkpoint b'/tmp/tfhub_modules/c6f5954ffa065cdb2f2e604e740e8838bf21a2d3/variables/variables' with SHARED_RANK_ANSWER/response_encoder_0/tanh_layer_1/bias\n",
      "INFO:tensorflow:Initialize variable module_3/SHARED_RANK_ANSWER/response_encoder_0/tanh_layer_1/weights:0 from checkpoint b'/tmp/tfhub_modules/c6f5954ffa065cdb2f2e604e740e8838bf21a2d3/variables/variables' with SHARED_RANK_ANSWER/response_encoder_0/tanh_layer_1/weights\n",
      "INFO:tensorflow:Initialize variable module_3/SHARED_RANK_ANSWER/response_encoder_0/tanh_layer_2/bias:0 from checkpoint b'/tmp/tfhub_modules/c6f5954ffa065cdb2f2e604e740e8838bf21a2d3/variables/variables' with SHARED_RANK_ANSWER/response_encoder_0/tanh_layer_2/bias\n",
      "INFO:tensorflow:Initialize variable module_3/SHARED_RANK_ANSWER/response_encoder_0/tanh_layer_2/weights:0 from checkpoint b'/tmp/tfhub_modules/c6f5954ffa065cdb2f2e604e740e8838bf21a2d3/variables/variables' with SHARED_RANK_ANSWER/response_encoder_0/tanh_layer_2/weights\n",
      "INFO:tensorflow:Initialize variable module_3/SNLI/Classifier/LinearLayer/bias:0 from checkpoint b'/tmp/tfhub_modules/c6f5954ffa065cdb2f2e604e740e8838bf21a2d3/variables/variables' with SNLI/Classifier/LinearLayer/bias\n",
      "INFO:tensorflow:Initialize variable module_3/SNLI/Classifier/LinearLayer/weights:0 from checkpoint b'/tmp/tfhub_modules/c6f5954ffa065cdb2f2e604e740e8838bf21a2d3/variables/variables' with SNLI/Classifier/LinearLayer/weights\n",
      "INFO:tensorflow:Initialize variable module_3/SNLI/Classifier/tanh_layer_0/bias:0 from checkpoint b'/tmp/tfhub_modules/c6f5954ffa065cdb2f2e604e740e8838bf21a2d3/variables/variables' with SNLI/Classifier/tanh_layer_0/bias\n",
      "INFO:tensorflow:Initialize variable module_3/SNLI/Classifier/tanh_layer_0/weights:0 from checkpoint b'/tmp/tfhub_modules/c6f5954ffa065cdb2f2e604e740e8838bf21a2d3/variables/variables' with SNLI/Classifier/tanh_layer_0/weights\n",
      "INFO:tensorflow:Initialize variable module_3/global_step:0 from checkpoint b'/tmp/tfhub_modules/c6f5954ffa065cdb2f2e604e740e8838bf21a2d3/variables/variables' with global_step\n"
     ]
    },
    {
     "data": {
      "text/plain": [
       "[None, None]"
      ]
     },
     "execution_count": 6,
     "metadata": {},
     "output_type": "execute_result"
    }
   ],
   "source": [
    "# \"GOOGLE ELMO\" sentence embeddings \n",
    "\n",
    "import tensorflow as tf\n",
    "import tensorflow_hub as hub\n",
    "\n",
    "# ELMO \n",
    "elmo = hub.Module(\"https://tfhub.dev/google/elmo/1\", trainable=False)\n",
    "elmo_input = tf.placeholder(tf.string)\n",
    "elmo_embeddings = elmo(elmo_input, signature=\"default\", as_dict=True)[\"default\"]\n",
    "def get_elmo_emb(sentences):\n",
    "    batch_size = 64\n",
    "    ix = 0\n",
    "    result = []\n",
    "    while ix < len(sentences):\n",
    "        result.append(session.run(elmo_embeddings,\n",
    "                                   feed_dict={elmo_input: sentences[ix: min(ix + batch_size, len(sentences))]}))\n",
    "        ix += batch_size\n",
    "    return np.concatenate(result, axis=0)\n",
    "\n",
    "# USE \n",
    "unsent = hub.Module(\"https://tfhub.dev/google/universal-sentence-encoder/1\")\n",
    "unsent_input = tf.placeholder(tf.string)\n",
    "unsent_embeddings = unsent(unsent_input)\n",
    "def get_unsent_emb(sentences):\n",
    "    return session.run(unsent_embeddings, feed_dict={unsent_input: sentences})\n",
    "\n",
    "\n",
    "#SESSION\n",
    "config = tf.ConfigProto()\n",
    "config.gpu_options.allow_growth = True\n",
    "session = tf.Session(config=config)\n",
    "session.run([tf.global_variables_initializer(), tf.tables_initializer()])"
   ]
  },
  {
   "cell_type": "code",
   "execution_count": 7,
   "metadata": {},
   "outputs": [
    {
     "data": {
      "text/plain": [
       "array([[ 0.055172  , -0.02187641, -0.17496805, ..., -0.3684806 ,\n",
       "         0.09267835,  0.23179089],\n",
       "       [-0.00798454,  0.14567915, -0.23224346, ..., -0.10154841,\n",
       "         0.08691092,  0.23858926]], dtype=float32)"
      ]
     },
     "execution_count": 7,
     "metadata": {},
     "output_type": "execute_result"
    }
   ],
   "source": [
    "get_elmo_emb([\"the cat is on the mat\", \"dogs are in the fog\"])"
   ]
  },
  {
   "cell_type": "code",
   "execution_count": 8,
   "metadata": {},
   "outputs": [
    {
     "data": {
      "text/plain": [
       "array([[ 0.03424731,  0.04210585, -0.01947479, ...,  0.06809645,\n",
       "        -0.06328977, -0.0475835 ],\n",
       "       [ 0.03531335, -0.02538425, -0.00788002, ...,  0.08605083,\n",
       "        -0.06940889, -0.06568888]], dtype=float32)"
      ]
     },
     "execution_count": 8,
     "metadata": {},
     "output_type": "execute_result"
    }
   ],
   "source": [
    "get_unsent_emb([\"The quick brown fox jumps over the lazy dog.\",\n",
    "             \"I am a sentence for which I would like to get its embedding\"])"
   ]
  },
  {
   "cell_type": "code",
   "execution_count": 12,
   "metadata": {},
   "outputs": [
    {
     "name": "stdout",
     "output_type": "stream",
     "text": [
      "SNLI: train: 183416, test: 3368\n",
      "ALL: train: 183416, test: 3368\n",
      "Found 20514(/21730) words with glove vectors\n",
      "Vocab size : 20514\n",
      "Found 30481(/26837) words with glove vectors\n",
      "Vocab size : 30481\n"
     ]
    }
   ],
   "source": [
    "import torch as t\n",
    "import utils\n",
    "from utils.batch_loader import BatchLoader\n",
    "from model.parameters import Parameters\n",
    "from model.paraphraser import Paraphraser\n",
    "\n",
    "class Args(object):\n",
    "    pass\n",
    "\n",
    "args = Args()\n",
    "args.batch_size = 32\n",
    "args.seq_len=30\n",
    "args.use_cuda = True\n",
    "\n",
    "args.use_cuda = True\n",
    "args.model_name = 'snli_200kit_600_800'\n",
    "\n",
    "datasets = set()\n",
    "datasets.add('snli')\n",
    "\n",
    "\n",
    "sentences = np.array([utils.batch_loader.clean_str(s) for s in sentences])\n",
    "captions = [[utils.batch_loader.clean_str(s) for s in bucket] for bucket in captions]\n",
    "\n",
    "batch_loader = BatchLoader(path='', datasets=datasets)\n",
    "batch_loader.build_input_vocab(sentences)"
   ]
  },
  {
   "cell_type": "code",
   "execution_count": 4,
   "metadata": {},
   "outputs": [],
   "source": [
    "# PARAPHRASER\n",
    "parameters = Parameters(batch_loader.max_seq_len, batch_loader.vocab_size)\n",
    "paraphraser = Paraphraser(parameters)\n",
    "\n",
    "paraphraser.load_state_dict(t.load('saved_models/trained_paraphraser_' + args.model_name))\n",
    "if args.use_cuda:\n",
    "    paraphraser = paraphraser.cuda()"
   ]
  },
  {
   "cell_type": "code",
   "execution_count": 13,
   "metadata": {},
   "outputs": [],
   "source": [
    "# PARAPHRASER EXPAND\n",
    "def paraphrases_from_sources(sources, use_mean=True):\n",
    "    result = []\n",
    "    for s1,s2 in zip(sources[0], sources[1]):\n",
    "        input = batch_loader.input_from_sentences([[s1],[s2]])\n",
    "        input = [var.cuda() if args.use_cuda else var for var in input]\n",
    "        result += [paraphraser.sample_with_input(batch_loader, args.seq_len, args.use_cuda, use_mean, input)]\n",
    "    \n",
    "    return result\n",
    "\n",
    "def paraphrase_expand(X, y, n_paraphrases, pure_paraphrases):\n",
    "    if n_paraphrases <= 0:\n",
    "        return X,y\n",
    "    \n",
    "    X_gen, y_gen = [], []\n",
    "    y = np.array(y)\n",
    "    X = np.array(X)\n",
    "    for class_id in np.unique(y):\n",
    "        X_class = X[y == class_id]\n",
    "        idx = []\n",
    "        for i in range(len(X_class)):\n",
    "            for j in range(len(X_class)):\n",
    "                if i == j and len(X_class) != 1:\n",
    "                    continue\n",
    "                idx.append((i,j))\n",
    "                \n",
    "        idx = np.array(idx)\n",
    "        idx = idx[np.random.choice(list(range(len(idx))), n_paraphrases, replace=False)]\n",
    "        sources = [X_class[idx[:,0]], X_class[idx[:,1]]]\n",
    "        X_gen += [paraphrases_from_sources(sources)]\n",
    "        y_gen += [[class_id] * n_paraphrases]\n",
    "    \n",
    "    if pure_paraphrases:\n",
    "        return np.concatenate(X_gen), np.concatenate(y_gen)\n",
    "    \n",
    "    X_result = np.concatenate([X] + X_gen)\n",
    "    y_result = np.concatenate([y] + y_gen)\n",
    "    \n",
    "    return X_result, y_result"
   ]
  },
  {
   "cell_type": "markdown",
   "metadata": {},
   "source": [
    "### infersent"
   ]
  },
  {
   "cell_type": "code",
   "execution_count": null,
   "metadata": {},
   "outputs": [],
   "source": [
    "# build infersent\n",
    "import torch as t\n",
    "import sys\n",
    "sys.path.append('../InferSent/encoder')\n",
    "\n",
    "INFERSENT_PATH = '../InferSent/encoder/'\n",
    "GLOVE_PATH = '/home/aleksey.zotov/InferSent/dataset/GloVe/glove.840B.300d.txt'\n",
    "\n",
    "infersent_model = t.load(INFERSENT_PATH + 'infersent.allnli.pickle', map_location=lambda storage, loc: storage)\n",
    "# infersent_model = t.load(INFERSENT_PATH + 'infersent.allnli.pickle', map_location={'cuda:1' : 'cuda:0', 'cuda:2' : 'cuda:0'})\n",
    "# infersent_model = t.load(INFERSENT_PATH + 'infersent.allnli.pickle')\n",
    "infersent_model.set_glove_path(GLOVE_PATH)\n",
    "infersent_model.build_vocab(sentences, tokenize=False)\n",
    "# infersent_model.build_vocab_k_words(K=200000)\n",
    "\n",
    "# infersent embs\n",
    "def get_infersent_emb(X):\n",
    "    embeddings = infersent_model.encode(X, bsize=64, tokenize=False, verbose=False)\n",
    "    return embeddings"
   ]
  },
  {
   "cell_type": "markdown",
   "metadata": {},
   "source": [
    "# Some paraphrasing samples"
   ]
  },
  {
   "cell_type": "code",
   "execution_count": 6,
   "metadata": {},
   "outputs": [
    {
     "data": {
      "text/plain": [
       "[' older woman is sitting with her dog in front of the table']"
      ]
     },
     "execution_count": 6,
     "metadata": {},
     "output_type": "execute_result"
    }
   ],
   "source": [
    "paraphrases_from_sources([\n",
    "    ['Woman sits near the table with her dog'],\n",
    "    ['Very old woman is sitting with her child on the table']], use_mean=False)"
   ]
  },
  {
   "cell_type": "code",
   "execution_count": 7,
   "metadata": {},
   "outputs": [
    {
     "data": {
      "text/plain": [
       "[' an old woman is sitting on the table with her dog']"
      ]
     },
     "execution_count": 7,
     "metadata": {},
     "output_type": "execute_result"
    }
   ],
   "source": [
    "paraphrases_from_sources([\n",
    "    ['Woman sits near the table with her dog'],\n",
    "    ['Very old woman is sitting with her child on the table']], use_mean=False)"
   ]
  },
  {
   "cell_type": "code",
   "execution_count": 8,
   "metadata": {},
   "outputs": [
    {
     "data": {
      "text/plain": [
       "[' older man is outside']"
      ]
     },
     "execution_count": 8,
     "metadata": {},
     "output_type": "execute_result"
    }
   ],
   "source": [
    "paraphrases_from_sources([\n",
    "    ['man is chopping old wood with an axe'],\n",
    "    ['very old man is outside']], use_mean=True)"
   ]
  },
  {
   "cell_type": "code",
   "execution_count": 9,
   "metadata": {},
   "outputs": [
    {
     "data": {
      "text/plain": [
       "('a bicycle replica with a clock as the front wheel',\n",
       " 'the bike has a clock as a tire',\n",
       " ' the bicycle has a marker')"
      ]
     },
     "execution_count": 9,
     "metadata": {},
     "output_type": "execute_result"
    }
   ],
   "source": [
    "cid = 0\n",
    "captions[cid][0], captions[cid][1], paraphrases_from_sources([[captions[cid][0]], [captions[cid][1]]], use_mean=True)[0]"
   ]
  },
  {
   "cell_type": "code",
   "execution_count": 10,
   "metadata": {},
   "outputs": [
    {
     "data": {
      "text/plain": [
       "('a room with blue walls and a white sink and door',\n",
       " 'blue and white color scheme in a small bathroom',\n",
       " ' there is a room covered in a room')"
      ]
     },
     "execution_count": 10,
     "metadata": {},
     "output_type": "execute_result"
    }
   ],
   "source": [
    "cid = 1\n",
    "captions[cid][0], captions[cid][1], paraphrases_from_sources([[captions[cid][0]], [captions[cid][1]]], use_mean=True)[0]"
   ]
  },
  {
   "cell_type": "code",
   "execution_count": 11,
   "metadata": {},
   "outputs": [
    {
     "data": {
      "text/plain": [
       "('a small white toilet sitting in a bathroom',\n",
       " 'the toilet in the small stall has the lit up',\n",
       " ' small inside of the water with the mirror of the mirror')"
      ]
     },
     "execution_count": 11,
     "metadata": {},
     "output_type": "execute_result"
    }
   ],
   "source": [
    "cid = 1337\n",
    "captions[cid][0], captions[cid][1], paraphrases_from_sources([[captions[cid][0]], [captions[cid][1]]], use_mean=True)[0]"
   ]
  },
  {
   "cell_type": "code",
   "execution_count": 14,
   "metadata": {},
   "outputs": [],
   "source": [
    "# GLOVE EMB using batch loader\n",
    "def get_glove_emb(sentence):\n",
    "    emb_size = 300\n",
    "    embed = np.zeros((len(sentence), emb_size))\n",
    "    for i, s in enumerate(sentence.strip().split()):\n",
    "        if s in batch_loader.word_vec.keys(): \n",
    "            embed[i, :] = batch_loader.word_vec[s]\n",
    "        else:\n",
    "            embed[i, :] = batch_loader.word_vec['null']\n",
    "    return embed"
   ]
  },
  {
   "cell_type": "code",
   "execution_count": 46,
   "metadata": {},
   "outputs": [],
   "source": [
    "# Build ONEHOT model embeddings\n",
    "from collections import Counter\n",
    "vocab_size = 10000\n",
    "word_counter = Counter((' '.join(sentences)).split())\n",
    "idx_to_word = [x[0] for x in word_counter.most_common(vocab_size - 1)]\n",
    "word_to_idx = {v : i for i,v in enumerate(idx_to_word)}\n",
    "\n",
    "def get_idx_by_word(w):\n",
    "    if w in word_to_idx:\n",
    "        return word_to_idx[w]\n",
    "    return vocab_size - 1\n",
    "\n",
    "def get_simple_onehot_embs(X):\n",
    "    embed = []\n",
    "    for sentence in X:\n",
    "        result = np.zeros(vocab_size)\n",
    "        result[[get_idx_by_word(w) for w in sentence.split()]] = 1.0\n",
    "        embed.append(result)\n",
    "    return np.array(embed)"
   ]
  },
  {
   "cell_type": "code",
   "execution_count": 15,
   "metadata": {},
   "outputs": [],
   "source": [
    "from sklearn.model_selection import train_test_split\n",
    "from sklearn.metrics import precision_recall_fscore_support\n",
    "\n",
    "def get_f1_score(y_true, y_pred):\n",
    "    return precision_recall_fscore_support(y_true=np.array(y_true), y_pred=y_pred)[2]\n",
    "\n",
    "def split_and_test(classifier, model_function, X_all, y_all, n_samples, n_paraphrases, pure_paraphrases=False):\n",
    "    n_classes = len(np.unique(y_all))\n",
    "    X_train, X_test, y_train, y_test = train_test_split(X_all, y_all, stratify=y_all, train_size=n_samples * n_classes)\n",
    "    X_train, y_train = paraphrase_expand(X_train, y_train, n_paraphrases, pure_paraphrases)\n",
    "    predicted_proba = model_function(classifier, X_train, X_test, y_train)\n",
    "    return np.mean(get_f1_score(y_test, predicted_proba))"
   ]
  },
  {
   "cell_type": "code",
   "execution_count": 47,
   "metadata": {},
   "outputs": [],
   "source": [
    "def with_embs(emb_function, classifier, X_train, X_test, y_train):\n",
    "    X_train = emb_function(X_train)\n",
    "    X_test = emb_function(X_test)\n",
    "    classifier.fit(X_train, y_train)\n",
    "    return classifier.predict(X_test)\n",
    "\n",
    "def onehot_embs_function(classifier, X_train, X_test, y_train):\n",
    "    return with_embs(get_simple_onehot_embs, classifier, X_train, X_test, y_train)\n",
    "\n",
    "def infersent_embs_function(classifier, X_train, X_test, y_train):\n",
    "    return with_embs(get_infersent_emb, classifier, X_train, X_test, y_train)\n",
    "\n",
    "def bag_of_words_function(classifier, X_train, X_test, y_train):\n",
    "    get_avg_glove_emb = lambda X: np.array([get_glove_emb(x).mean(axis=0) for x in X])\n",
    "    return with_embs(get_avg_glove_emb, classifier, X_train, X_test, y_train)\n",
    "\n",
    "def elmo_embs_function(classifier, X_train, X_test, y_train):\n",
    "    return with_embs(get_elmo_emb, classifier, X_train, X_test, y_train)\n",
    "\n",
    "def unsent_embs_function(classifier, X_train, X_test, y_train):\n",
    "    return with_embs(get_unsent_emb, classifier, X_train, X_test, y_train)"
   ]
  },
  {
   "cell_type": "code",
   "execution_count": 17,
   "metadata": {},
   "outputs": [],
   "source": [
    "def build_xy_sampled(n_classes):\n",
    "    assert n_classes <= len(captions)\n",
    "    sampled_captions_id = np.random.choice(list(range(len(captions))), size=n_classes, replace=False)\n",
    "    x_all, y_all = [], []\n",
    "    for i in sampled_captions_id:\n",
    "        y_all += [i] * len(captions[i])\n",
    "        for s in captions[i]:\n",
    "            x_all.append(s)\n",
    "    return x_all, y_all"
   ]
  },
  {
   "cell_type": "code",
   "execution_count": 16,
   "metadata": {},
   "outputs": [],
   "source": [
    "import warnings\n",
    "warnings.filterwarnings('ignore')"
   ]
  },
  {
   "cell_type": "code",
   "execution_count": 18,
   "metadata": {},
   "outputs": [],
   "source": [
    "from tqdm import tqdm\n",
    "def run(classifier, function, n_samples, n_paraphrases, n_classes, averaging_order, pure_paraphrases):\n",
    "    result_f1 = []\n",
    "    for i in tqdm(range(averaging_order), position=0):\n",
    "        X,y = build_xy_sampled(n_classes)\n",
    "        result_f1.append(split_and_test(classifier, function, X, y, n_samples, n_paraphrases, pure_paraphrases))\n",
    "    return np.mean(result_f1), np.std(result_f1)"
   ]
  },
  {
   "cell_type": "markdown",
   "metadata": {},
   "source": [
    "# paraphrasing VS no-paraphrasing"
   ]
  },
  {
   "cell_type": "code",
   "execution_count": 18,
   "metadata": {},
   "outputs": [],
   "source": [
    "from sklearn.linear_model import LogisticRegression\n",
    "logreg_classifier = LogisticRegression(multi_class='multinomial', solver='saga', max_iter=500, C=100, n_jobs=-1)"
   ]
  },
  {
   "cell_type": "markdown",
   "metadata": {},
   "source": [
    "##  1 sample"
   ]
  },
  {
   "cell_type": "code",
   "execution_count": 20,
   "metadata": {},
   "outputs": [
    {
     "name": "stderr",
     "output_type": "stream",
     "text": [
      "100%|██████████| 30/30 [00:22<00:00,  1.32it/s]\n"
     ]
    },
    {
     "data": {
      "text/plain": [
       "(0.6539462748580397, 0.06604705517453359)"
      ]
     },
     "execution_count": 20,
     "metadata": {},
     "output_type": "execute_result"
    }
   ],
   "source": [
    "run(logreg_classifier, \n",
    "    bag_of_words_function, \n",
    "    n_samples=1, \n",
    "    n_paraphrases=0, \n",
    "    n_classes=30, \n",
    "    averaging_order=30, \n",
    "    pure_paraphrases=False)"
   ]
  },
  {
   "cell_type": "code",
   "execution_count": 21,
   "metadata": {},
   "outputs": [
    {
     "name": "stderr",
     "output_type": "stream",
     "text": [
      "100%|██████████| 30/30 [00:52<00:00,  1.76s/it]\n"
     ]
    },
    {
     "data": {
      "text/plain": [
       "(0.6349217864465543, 0.059079898191404946)"
      ]
     },
     "execution_count": 21,
     "metadata": {},
     "output_type": "execute_result"
    }
   ],
   "source": [
    "run(logreg_classifier,\n",
    "    bag_of_words_function,\n",
    "    n_samples=1,\n",
    "    n_paraphrases=1,\n",
    "    n_classes=30,\n",
    "    averaging_order=30,\n",
    "    pure_paraphrases=False)"
   ]
  },
  {
   "cell_type": "markdown",
   "metadata": {},
   "source": [
    "## 2 samples "
   ]
  },
  {
   "cell_type": "code",
   "execution_count": 22,
   "metadata": {},
   "outputs": [
    {
     "name": "stderr",
     "output_type": "stream",
     "text": [
      "100%|██████████| 30/30 [00:37<00:00,  1.23s/it]\n"
     ]
    },
    {
     "data": {
      "text/plain": [
       "(0.814659852493186, 0.05307156809327878)"
      ]
     },
     "execution_count": 22,
     "metadata": {},
     "output_type": "execute_result"
    }
   ],
   "source": [
    "run(logreg_classifier,\n",
    "    bag_of_words_function,\n",
    "    n_samples=2,\n",
    "    n_paraphrases=0,\n",
    "    n_classes=30,\n",
    "    averaging_order=30,\n",
    "    pure_paraphrases=False)"
   ]
  },
  {
   "cell_type": "code",
   "execution_count": 23,
   "metadata": {},
   "outputs": [
    {
     "name": "stderr",
     "output_type": "stream",
     "text": [
      "100%|██████████| 30/30 [01:06<00:00,  2.23s/it]\n"
     ]
    },
    {
     "data": {
      "text/plain": [
       "(0.7730055315055316, 0.04833216119069171)"
      ]
     },
     "execution_count": 23,
     "metadata": {},
     "output_type": "execute_result"
    }
   ],
   "source": [
    "run(logreg_classifier,\n",
    "    bag_of_words_function,\n",
    "    n_samples=2,\n",
    "    n_paraphrases=1,\n",
    "    n_classes=30,\n",
    "    averaging_order=30,\n",
    "    pure_paraphrases=False)"
   ]
  },
  {
   "cell_type": "markdown",
   "metadata": {},
   "source": [
    "## 3 samples"
   ]
  },
  {
   "cell_type": "code",
   "execution_count": 24,
   "metadata": {},
   "outputs": [
    {
     "name": "stderr",
     "output_type": "stream",
     "text": [
      "100%|██████████| 30/30 [00:50<00:00,  1.69s/it]\n"
     ]
    },
    {
     "data": {
      "text/plain": [
       "(0.8257054673721341, 0.061292614074307715)"
      ]
     },
     "execution_count": 24,
     "metadata": {},
     "output_type": "execute_result"
    }
   ],
   "source": [
    "run(logreg_classifier,\n",
    "    bag_of_words_function,\n",
    "    n_samples=3,\n",
    "    n_paraphrases=0,\n",
    "    n_classes=30,\n",
    "    averaging_order=30,\n",
    "    pure_paraphrases=False)"
   ]
  },
  {
   "cell_type": "code",
   "execution_count": 25,
   "metadata": {},
   "outputs": [
    {
     "name": "stderr",
     "output_type": "stream",
     "text": [
      "100%|██████████| 30/30 [02:10<00:00,  4.36s/it]\n"
     ]
    },
    {
     "data": {
      "text/plain": [
       "(0.8217213403880073, 0.05220771190409793)"
      ]
     },
     "execution_count": 25,
     "metadata": {},
     "output_type": "execute_result"
    }
   ],
   "source": [
    "run(logreg_classifier,\n",
    "    bag_of_words_function,\n",
    "    n_samples=3,\n",
    "    n_paraphrases=3,\n",
    "    n_classes=30,\n",
    "    averaging_order=30,\n",
    "    pure_paraphrases=False)"
   ]
  },
  {
   "cell_type": "markdown",
   "metadata": {},
   "source": [
    "## 4 samples"
   ]
  },
  {
   "cell_type": "code",
   "execution_count": 28,
   "metadata": {},
   "outputs": [
    {
     "name": "stderr",
     "output_type": "stream",
     "text": [
      "100%|██████████| 30/30 [01:03<00:00,  2.11s/it]\n"
     ]
    },
    {
     "data": {
      "text/plain": [
       "(0.8545185185185186, 0.08730719302188548)"
      ]
     },
     "execution_count": 28,
     "metadata": {},
     "output_type": "execute_result"
    }
   ],
   "source": [
    "run(logreg_classifier,\n",
    "    bag_of_words_function,\n",
    "    n_samples=4,\n",
    "    n_paraphrases=0,\n",
    "    n_classes=30,\n",
    "    averaging_order=30,\n",
    "    pure_paraphrases=False)"
   ]
  },
  {
   "cell_type": "code",
   "execution_count": 29,
   "metadata": {},
   "outputs": [
    {
     "name": "stderr",
     "output_type": "stream",
     "text": [
      "100%|██████████| 30/30 [03:31<00:00,  7.04s/it]\n"
     ]
    },
    {
     "data": {
      "text/plain": [
       "(0.8457407407407406, 0.0784322114757844)"
      ]
     },
     "execution_count": 29,
     "metadata": {},
     "output_type": "execute_result"
    }
   ],
   "source": [
    "run(logreg_classifier,\n",
    "    bag_of_words_function,\n",
    "    n_samples=4,\n",
    "    n_paraphrases=6,\n",
    "    n_classes=30,\n",
    "    averaging_order=30,\n",
    "    pure_paraphrases=False)"
   ]
  },
  {
   "cell_type": "code",
   "execution_count": 30,
   "metadata": {},
   "outputs": [
    {
     "data": {
      "text/plain": [
       "[' a table filled with a spoon and a few empty plate at a table']"
      ]
     },
     "execution_count": 30,
     "metadata": {},
     "output_type": "execute_result"
    }
   ],
   "source": [
    "paraphrases_from_sources([['a table with a quesadilla salad and drinks'],['a sliced pizza a salad and two milk shakes on a table']], use_mean=True)"
   ]
  },
  {
   "cell_type": "code",
   "execution_count": null,
   "metadata": {},
   "outputs": [],
   "source": [
    "# !export CUDA_VISIBLE_DEVICES=1 \n",
    "!echo $CUDA_VISIBLE_DEVICES"
   ]
  },
  {
   "cell_type": "markdown",
   "metadata": {},
   "source": [
    "# GLOVE BAG vs USE vs ELMO vs InferSent"
   ]
  },
  {
   "cell_type": "code",
   "execution_count": 48,
   "metadata": {},
   "outputs": [],
   "source": [
    "from sklearn.linear_model import LogisticRegression\n",
    "logreg_classifier = LogisticRegression(multi_class='multinomial', solver='saga', max_iter=500, C=100, n_jobs=-1)"
   ]
  },
  {
   "cell_type": "code",
   "execution_count": 47,
   "metadata": {},
   "outputs": [
    {
     "name": "stderr",
     "output_type": "stream",
     "text": [
      "100%|██████████| 30/30 [00:41<00:00,  1.38s/it]\n"
     ]
    },
    {
     "data": {
      "text/plain": [
       "(0.8315167548500881, 0.06565648855940624)"
      ]
     },
     "execution_count": 47,
     "metadata": {},
     "output_type": "execute_result"
    }
   ],
   "source": [
    "# GLOVE BAG\n",
    "run(logreg_classifier,\n",
    "    bag_of_words_function,\n",
    "    n_samples=3, \n",
    "    n_paraphrases=0,\n",
    "    n_classes=30,\n",
    "    averaging_order=30,\n",
    "    pure_paraphrases=False)"
   ]
  },
  {
   "cell_type": "code",
   "execution_count": 52,
   "metadata": {},
   "outputs": [
    {
     "name": "stderr",
     "output_type": "stream",
     "text": [
      "100%|██████████| 30/30 [03:46<00:00,  7.56s/it]\n"
     ]
    },
    {
     "data": {
      "text/plain": [
       "(0.8194603174603173, 0.06245863466938405)"
      ]
     },
     "execution_count": 52,
     "metadata": {},
     "output_type": "execute_result"
    }
   ],
   "source": [
    "# %%time\n",
    "run(logreg_classifier,\n",
    "    elmo_embs_function,\n",
    "    n_samples=3, \n",
    "    n_paraphrases=0,\n",
    "    n_classes=30,\n",
    "    averaging_order=30,\n",
    "    pure_paraphrases=False)"
   ]
  },
  {
   "cell_type": "code",
   "execution_count": 51,
   "metadata": {},
   "outputs": [
    {
     "name": "stderr",
     "output_type": "stream",
     "text": [
      "100%|██████████| 30/30 [00:53<00:00,  1.78s/it]"
     ]
    },
    {
     "name": "stdout",
     "output_type": "stream",
     "text": [
      "CPU times: user 4min 13s, sys: 24 s, total: 4min 37s\n",
      "Wall time: 53.4 s\n"
     ]
    },
    {
     "name": "stderr",
     "output_type": "stream",
     "text": [
      "\n"
     ]
    },
    {
     "data": {
      "text/plain": [
       "(0.8492010582010583, 0.0662022559821411)"
      ]
     },
     "execution_count": 51,
     "metadata": {},
     "output_type": "execute_result"
    }
   ],
   "source": [
    "%%time\n",
    "run(logreg_classifier,\n",
    "    unsent_embs_function,\n",
    "    n_samples=3, \n",
    "    n_paraphrases=0,\n",
    "    n_classes=30,\n",
    "    averaging_order=30,\n",
    "    pure_paraphrases=False)"
   ]
  },
  {
   "cell_type": "code",
   "execution_count": 53,
   "metadata": {},
   "outputs": [
    {
     "name": "stderr",
     "output_type": "stream",
     "text": [
      "100%|██████████| 30/30 [17:56<00:00, 35.88s/it]"
     ]
    },
    {
     "name": "stdout",
     "output_type": "stream",
     "text": [
      "CPU times: user 33min 17s, sys: 1min 38s, total: 34min 55s\n",
      "Wall time: 17min 56s\n"
     ]
    },
    {
     "name": "stderr",
     "output_type": "stream",
     "text": [
      "\n"
     ]
    },
    {
     "data": {
      "text/plain": [
       "(0.8873227513227513, 0.05617811021872542)"
      ]
     },
     "execution_count": 53,
     "metadata": {},
     "output_type": "execute_result"
    }
   ],
   "source": [
    "%%time\n",
    "run(logreg_classifier,\n",
    "    infersent_embs_function,\n",
    "    n_samples=3, \n",
    "    n_paraphrases=0,\n",
    "    n_classes=30,\n",
    "    averaging_order=30,\n",
    "    pure_paraphrases=False)"
   ]
  },
  {
   "cell_type": "code",
   "execution_count": null,
   "metadata": {},
   "outputs": [],
   "source": [
    "(0.896825396825397, 0.046513606386423476)"
   ]
  },
  {
   "cell_type": "markdown",
   "metadata": {},
   "source": [
    "# RANDOM FOREST "
   ]
  },
  {
   "cell_type": "code",
   "execution_count": 37,
   "metadata": {},
   "outputs": [],
   "source": [
    "from sklearn.ensemble import RandomForestClassifier"
   ]
  },
  {
   "cell_type": "code",
   "execution_count": 55,
   "metadata": {},
   "outputs": [
    {
     "name": "stderr",
     "output_type": "stream",
     "text": [
      "100%|██████████| 30/30 [01:38<00:00,  3.28s/it]\n"
     ]
    },
    {
     "data": {
      "text/plain": [
       "(0.7590846560846563, 0.06675281261233544)"
      ]
     },
     "execution_count": 55,
     "metadata": {},
     "output_type": "execute_result"
    }
   ],
   "source": [
    "# GLOVE BAG\n",
    "rf_classifier = RandomForestClassifier(n_estimators=2000, max_depth=7, n_jobs=-1)\n",
    "run(rf_classifier,\n",
    "    bag_of_words_function,\n",
    "    n_samples=3, \n",
    "    n_paraphrases=0,\n",
    "    n_classes=30,\n",
    "    averaging_order=30,\n",
    "    pure_paraphrases=False)"
   ]
  },
  {
   "cell_type": "code",
   "execution_count": 57,
   "metadata": {},
   "outputs": [
    {
     "name": "stderr",
     "output_type": "stream",
     "text": [
      "100%|██████████| 30/30 [01:41<00:00,  3.38s/it]\n"
     ]
    },
    {
     "data": {
      "text/plain": [
       "(0.8130264550264549, 0.06428641887827777)"
      ]
     },
     "execution_count": 57,
     "metadata": {},
     "output_type": "execute_result"
    }
   ],
   "source": [
    "# GLOVE BAG\n",
    "rf_classifier = RandomForestClassifier(n_estimators=3000, n_jobs=-1)\n",
    "run(rf_classifier,\n",
    "    bag_of_words_function,\n",
    "    n_samples=3, \n",
    "    n_paraphrases=0,\n",
    "    n_classes=30,\n",
    "    averaging_order=30,\n",
    "    pure_paraphrases=False)"
   ]
  },
  {
   "cell_type": "code",
   "execution_count": 58,
   "metadata": {},
   "outputs": [
    {
     "name": "stderr",
     "output_type": "stream",
     "text": [
      "100%|██████████| 30/30 [02:31<00:00,  5.04s/it]\n"
     ]
    },
    {
     "data": {
      "text/plain": [
       "(0.7950317460317461, 0.057285010573290114)"
      ]
     },
     "execution_count": 58,
     "metadata": {},
     "output_type": "execute_result"
    }
   ],
   "source": [
    "# GLOVE BAG\n",
    "rf_classifier = RandomForestClassifier(n_estimators=3000, n_jobs=-1)\n",
    "run(rf_classifier,\n",
    "    bag_of_words_function,\n",
    "    n_samples=3, \n",
    "    n_paraphrases=0,\n",
    "    n_classes=30,\n",
    "    averaging_order=30,\n",
    "    pure_paraphrases=False)"
   ]
  },
  {
   "cell_type": "code",
   "execution_count": 39,
   "metadata": {},
   "outputs": [
    {
     "name": "stderr",
     "output_type": "stream",
     "text": [
      "100%|██████████| 30/30 [01:48<00:00,  3.63s/it]\n"
     ]
    },
    {
     "data": {
      "text/plain": [
       "(0.7960317460317462, 0.06166265231770459)"
      ]
     },
     "execution_count": 39,
     "metadata": {},
     "output_type": "execute_result"
    }
   ],
   "source": [
    "# 13.1s/it:CPU , 8.5s/it:GPU\n",
    "# %%time\n",
    "classifier = RandomForestClassifier(n_estimators=2000, n_jobs=-1)\n",
    "run(rf_classifier,\n",
    "    elmo_embs_function,\n",
    "    n_samples=3, \n",
    "    n_paraphrases=0,\n",
    "    n_classes=30,\n",
    "    averaging_order=30,\n",
    "    pure_paraphrases=False)"
   ]
  },
  {
   "cell_type": "code",
   "execution_count": 60,
   "metadata": {},
   "outputs": [],
   "source": [
    "# session.close()"
   ]
  },
  {
   "cell_type": "markdown",
   "metadata": {},
   "source": [
    "# Plots"
   ]
  },
  {
   "cell_type": "code",
   "execution_count": 50,
   "metadata": {},
   "outputs": [],
   "source": [
    "import matplotlib.pyplot as plt\n",
    "%matplotlib inline\n",
    "colors = ['b', 'g', 'r', 'orange', 'black']\n",
    "def plots_for_nsources_range(title, names, scores, stds, n_samples):\n",
    "    plt.figure()\n",
    "    fig, ax = plt.subplots(figsize=(12,9))\n",
    "    ax.grid(True)\n",
    "    plt.title(title, fontsize=14)\n",
    "    for i in range(len(scores)):\n",
    "        ax.plot(n_samples, scores[i],'-o', label = names[i], color=colors[i])\n",
    "        ax.fill_between(n_samples, scores[i] - stds[i], scores[i] + stds[i],alpha=0.10, color=colors[i])\n",
    "        ax.set_ylabel('F1')\n",
    "        ax.legend(loc=(0.8,0.1), fontsize=12)\n",
    "        ax.set_ylabel('between y1 and 0')\n",
    "        \n",
    "    plt.xlabel('number of training samples per class', fontsize=12)\n",
    "    plt.ylabel('F1', fontsize=12)\n",
    "    plt.savefig('logs/nsources_{}.png'.format(title))\n",
    "    plt.show()"
   ]
  },
  {
   "cell_type": "markdown",
   "metadata": {},
   "source": [
    "# EMBS"
   ]
  },
  {
   "cell_type": "code",
   "execution_count": 21,
   "metadata": {},
   "outputs": [],
   "source": [
    "AVERAGING_ORDER = 50\n",
    "def process_for_sources_range(name, classifier, function , n_sources_range, n_paraphrases = 0):\n",
    "    mean = []\n",
    "    std = []\n",
    "    for n_sources in tqdm(n_sources_range, position=0):\n",
    "        cur_mean, cur_std = results = run(classifier,\n",
    "                        function,\n",
    "                        n_samples=n_sources,\n",
    "                        n_paraphrases=n_paraphrases,\n",
    "                        n_classes=30,\n",
    "                        averaging_order=AVERAGING_ORDER,\n",
    "                        pure_paraphrases=False)\n",
    "\n",
    "        mean.append(cur_mean)\n",
    "        std.append(cur_std)\n",
    "    mean = np.array(mean)\n",
    "    std = np.array(std)\n",
    "    n_sources_range = np.array(n_sources_range)\n",
    "    np.save('logs/mscoco_score_{}.npy'.format(name), [mean, std, n_sources_range])\n",
    "    return mean, std, n_sources_range"
   ]
  },
  {
   "cell_type": "code",
   "execution_count": 22,
   "metadata": {},
   "outputs": [],
   "source": [
    "from sklearn.linear_model import LogisticRegression\n",
    "logreg_classifier = LogisticRegression(multi_class='multinomial', solver='saga', max_iter=1000, n_jobs=-1, C=100)"
   ]
  },
  {
   "cell_type": "code",
   "execution_count": 23,
   "metadata": {},
   "outputs": [],
   "source": [
    "n_sources_range = [1,2,3,4]"
   ]
  },
  {
   "cell_type": "code",
   "execution_count": 24,
   "metadata": {},
   "outputs": [
    {
     "name": "stderr",
     "output_type": "stream",
     "text": [
      "  0%|          | 0/50 [00:00<?, ?it/s]/home/aleksey.zotov/anaconda3/lib/python3.6/site-packages/sklearn/model_selection/_split.py:2026: FutureWarning: From version 0.21, test_size will always complement train_size unless both are specified.\n",
      "  FutureWarning)\n",
      "/home/aleksey.zotov/anaconda3/lib/python3.6/site-packages/sklearn/metrics/classification.py:1135: UndefinedMetricWarning: Precision and F-score are ill-defined and being set to 0.0 in labels with no predicted samples.\n",
      "  'precision', 'predicted', average, warn_for)\n",
      "100%|██████████| 50/50 [00:30<00:00,  1.65it/s]\n",
      "100%|██████████| 50/50 [00:46<00:00,  1.07it/s]\n",
      "100%|██████████| 50/50 [01:03<00:00,  1.27s/it]\n",
      "100%|██████████| 50/50 [01:20<00:00,  1.61s/it]\n",
      "100%|██████████| 4/4 [03:41<00:00, 55.33s/it]"
     ]
    },
    {
     "name": "stdout",
     "output_type": "stream",
     "text": [
      "CPU times: user 26min 35s, sys: 1min 48s, total: 28min 23s\n",
      "Wall time: 3min 41s\n"
     ]
    },
    {
     "name": "stderr",
     "output_type": "stream",
     "text": [
      "\n"
     ]
    }
   ],
   "source": [
    "%%time\n",
    "name = 'glove_logreg'\n",
    "process_for_sources_range(name, logreg_classifier, bag_of_words_function, n_sources_range, n_paraphrases=0)"
   ]
  },
  {
   "cell_type": "code",
   "execution_count": 25,
   "metadata": {},
   "outputs": [
    {
     "name": "stderr",
     "output_type": "stream",
     "text": [
      "  0%|          | 0/50 [00:00<?, ?it/s]/home/aleksey.zotov/anaconda3/lib/python3.6/site-packages/sklearn/model_selection/_split.py:2026: FutureWarning: From version 0.21, test_size will always complement train_size unless both are specified.\n",
      "  FutureWarning)\n",
      "/home/aleksey.zotov/anaconda3/lib/python3.6/site-packages/sklearn/metrics/classification.py:1135: UndefinedMetricWarning: Precision and F-score are ill-defined and being set to 0.0 in labels with no predicted samples.\n",
      "  'precision', 'predicted', average, warn_for)\n",
      "100%|██████████| 50/50 [03:11<00:00,  3.82s/it]\n",
      " 58%|█████▊    | 29/50 [03:34<02:35,  7.40s/it]/home/aleksey.zotov/anaconda3/lib/python3.6/site-packages/sklearn/linear_model/sag.py:326: ConvergenceWarning: The max_iter was reached which means the coef_ did not converge\n",
      "  \"the coef_ did not converge\", ConvergenceWarning)\n",
      "100%|██████████| 50/50 [06:09<00:00,  7.38s/it]\n",
      "100%|██████████| 50/50 [09:09<00:00, 11.00s/it]\n",
      "100%|██████████| 50/50 [12:29<00:00, 14.99s/it]\n",
      "100%|██████████| 4/4 [30:59<00:00, 464.88s/it]"
     ]
    },
    {
     "name": "stdout",
     "output_type": "stream",
     "text": [
      "CPU times: user 55min 15s, sys: 2min 31s, total: 57min 47s\n",
      "Wall time: 30min 59s\n"
     ]
    },
    {
     "name": "stderr",
     "output_type": "stream",
     "text": [
      "\n"
     ]
    }
   ],
   "source": [
    "%%time\n",
    "name = 'elmo_logreg'\n",
    "process_for_sources_range(name, logreg_classifier, elmo_embs_function, n_sources_range, n_paraphrases=0)"
   ]
  },
  {
   "cell_type": "code",
   "execution_count": 27,
   "metadata": {},
   "outputs": [
    {
     "name": "stderr",
     "output_type": "stream",
     "text": [
      "  0%|          | 0/50 [00:00<?, ?it/s]/home/aleksey.zotov/anaconda3/lib/python3.6/site-packages/sklearn/model_selection/_split.py:2026: FutureWarning: From version 0.21, test_size will always complement train_size unless both are specified.\n",
      "  FutureWarning)\n",
      "  6%|▌         | 3/50 [00:01<00:29,  1.58it/s]/home/aleksey.zotov/anaconda3/lib/python3.6/site-packages/sklearn/metrics/classification.py:1135: UndefinedMetricWarning: Precision and F-score are ill-defined and being set to 0.0 in labels with no predicted samples.\n",
      "  'precision', 'predicted', average, warn_for)\n",
      "100%|██████████| 50/50 [00:31<00:00,  1.60it/s]\n",
      "100%|██████████| 50/50 [00:58<00:00,  1.18s/it]\n",
      "100%|██████████| 50/50 [01:24<00:00,  1.69s/it]\n",
      "100%|██████████| 50/50 [01:56<00:00,  2.32s/it]\n",
      "100%|██████████| 4/4 [04:51<00:00, 72.77s/it]"
     ]
    },
    {
     "name": "stdout",
     "output_type": "stream",
     "text": [
      "CPU times: user 27min 54s, sys: 2min 42s, total: 30min 36s\n",
      "Wall time: 4min 51s\n"
     ]
    },
    {
     "name": "stderr",
     "output_type": "stream",
     "text": [
      "\n"
     ]
    }
   ],
   "source": [
    "%%time\n",
    "name = 'unsent_logreg'\n",
    "process_for_sources_range(name, logreg_classifier, unsent_embs_function, n_sources_range, n_paraphrases=0)"
   ]
  },
  {
   "cell_type": "code",
   "execution_count": 30,
   "metadata": {},
   "outputs": [
    {
     "name": "stderr",
     "output_type": "stream",
     "text": [
      "  0%|          | 0/50 [00:00<?, ?it/s]/home/aleksey.zotov/anaconda3/lib/python3.6/site-packages/sklearn/model_selection/_split.py:2026: FutureWarning: From version 0.21, test_size will always complement train_size unless both are specified.\n",
      "  FutureWarning)\n",
      "../InferSent/encoder/models.py:206: UserWarning: volatile was removed and now has no effect. Use `with torch.no_grad():` instead.\n",
      "  sentences[stidx:stidx + bsize]), volatile=True)\n",
      "/home/aleksey.zotov/anaconda3/lib/python3.6/site-packages/sklearn/metrics/classification.py:1135: UndefinedMetricWarning: Precision and F-score are ill-defined and being set to 0.0 in labels with no predicted samples.\n",
      "  'precision', 'predicted', average, warn_for)\n",
      "100%|██████████| 50/50 [09:52<00:00, 11.85s/it]\n",
      "100%|██████████| 50/50 [20:23<00:00, 24.47s/it]\n",
      "100%|██████████| 50/50 [30:33<00:00, 36.67s/it]\n",
      "100%|██████████| 50/50 [41:35<00:00, 49.90s/it]t]\n",
      "100%|██████████| 4/4 [1:42:24<00:00, 1536.06s/it]"
     ]
    },
    {
     "name": "stdout",
     "output_type": "stream",
     "text": [
      "CPU times: user 3h 28min 3s, sys: 9min 28s, total: 3h 37min 32s\n",
      "Wall time: 1h 42min 24s\n"
     ]
    },
    {
     "name": "stderr",
     "output_type": "stream",
     "text": [
      "\n"
     ]
    }
   ],
   "source": [
    "%%time\n",
    "name = 'infersent_logreg'\n",
    "process_for_sources_range(name, logreg_classifier, infersent_embs_function, n_sources_range, n_paraphrases=0)"
   ]
  },
  {
   "cell_type": "code",
   "execution_count": 48,
   "metadata": {},
   "outputs": [
    {
     "name": "stderr",
     "output_type": "stream",
     "text": [
      "  0%|          | 0/50 [00:00<?, ?it/s]/home/aleksey.zotov/anaconda3/lib/python3.6/site-packages/sklearn/model_selection/_split.py:2026: FutureWarning: From version 0.21, test_size will always complement train_size unless both are specified.\n",
      "  FutureWarning)\n",
      "/home/aleksey.zotov/anaconda3/lib/python3.6/site-packages/sklearn/linear_model/sag.py:326: ConvergenceWarning: The max_iter was reached which means the coef_ did not converge\n",
      "  \"the coef_ did not converge\", ConvergenceWarning)\n",
      "/home/aleksey.zotov/anaconda3/lib/python3.6/site-packages/sklearn/metrics/classification.py:1135: UndefinedMetricWarning: Precision and F-score are ill-defined and being set to 0.0 in labels with no predicted samples.\n",
      "  'precision', 'predicted', average, warn_for)\n",
      "100%|██████████| 50/50 [02:48<00:00,  3.38s/it]\n",
      "100%|██████████| 50/50 [05:18<00:00,  6.38s/it]\n",
      "100%|██████████| 50/50 [07:28<00:00,  8.98s/it]\n",
      "100%|██████████| 50/50 [12:15<00:00, 14.70s/it]\n",
      "100%|██████████| 4/4 [27:51<00:00, 417.92s/it]"
     ]
    },
    {
     "name": "stdout",
     "output_type": "stream",
     "text": [
      "CPU times: user 51min 4s, sys: 2min 1s, total: 53min 6s\n",
      "Wall time: 27min 51s\n"
     ]
    },
    {
     "name": "stderr",
     "output_type": "stream",
     "text": [
      "\n"
     ]
    }
   ],
   "source": [
    "%%time\n",
    "name = 'onehot_logreg_50'\n",
    "logreg_classifier = LogisticRegression(multi_class='multinomial', solver='saga', max_iter=50, n_jobs=-1, C=50)\n",
    "process_for_sources_range(name,logreg_classifier, onehot_embs_function, n_sources_range, n_paraphrases=0)"
   ]
  },
  {
   "cell_type": "code",
   "execution_count": 51,
   "metadata": {},
   "outputs": [
    {
     "data": {
      "text/plain": [
       "<matplotlib.figure.Figure at 0x7fa1c14458d0>"
      ]
     },
     "metadata": {},
     "output_type": "display_data"
    },
    {
     "data": {
      "image/png": "[encoded data removed]",
      "text/plain": [
       "<matplotlib.figure.Figure at 0x7fa1c1441cf8>"
      ]
     },
     "metadata": {},
     "output_type": "display_data"
    }
   ],
   "source": [
    "glove = np.load('logs/mscoco_score_glove_logreg.npy')\n",
    "elmo = np.load('logs/mscoco_score_elmo_logreg.npy')\n",
    "unsent = np.load('logs/mscoco_score_unsent_logreg.npy')\n",
    "infersent = np.load('logs/mscoco_score_infersent_logreg.npy')\n",
    "onehot = np.load('logs/mscoco_score_onehot_logreg_50.npy')\n",
    "names = ['glove','elmo','unsent','infersent','onehot']\n",
    "data =  [glove , elmo , unsent , infersent , onehot]\n",
    "scores = [d[0] for d in data]\n",
    "stds = [d[1] for d in data]\n",
    "ranges = data[0][2]\n",
    "    \n",
    "plots_for_nsources_range('MSCOCO LogReg with Embeddings', names, scores, stds, ranges)"
   ]
  }
 ],
 "metadata": {
  "kernelspec": {
   "display_name": "Python 3",
   "language": "python",
   "name": "python3"
  },
  "language_info": {
   "codemirror_mode": {
    "name": "ipython",
    "version": 3
   },
   "file_extension": ".py",
   "mimetype": "text/x-python",
   "name": "python",
   "nbconvert_exporter": "python",
   "pygments_lexer": "ipython3",
   "version": "3.6.4"
  }
 },
 "nbformat": 4,
 "nbformat_minor": 2
}
