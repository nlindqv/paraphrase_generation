{
 "cells": [
  {
   "cell_type": "code",
   "execution_count": 4,
   "metadata": {},
   "outputs": [],
   "source": [
    "import pandas as pd\n",
    "import numpy as np\n",
    "import nltk"
   ]
  },
  {
   "cell_type": "code",
   "execution_count": 60,
   "metadata": {},
   "outputs": [
    {
     "name": "stdout",
     "output_type": "stream",
     "text": [
      "Found 27526(/30114) words with glove vectors\n",
      "Vocab size : 27526\n"
     ]
    }
   ],
   "source": [
    "# from utils.batch_loader import BatchLoader\n",
    "# batch_loader = BatchLoader()"
   ]
  },
  {
   "cell_type": "code",
   "execution_count": 90,
   "metadata": {},
   "outputs": [
    {
     "name": "stdout",
     "output_type": "stream",
     "text": [
      "28_03_sampling_examples.txt    kld_result_npy_.npy            sampled_out_dropout03.txt.npy  target_out.txt.npy\r\n",
      "ce_result_.npy                 sampled_out_120k_it.txt.npy    sampled_out_overfitted.txt.npy\r\n"
     ]
    }
   ],
   "source": [
    "!ls logs"
   ]
  },
  {
   "cell_type": "code",
   "execution_count": 59,
   "metadata": {
    "collapsed": true
   },
   "outputs": [],
   "source": [
    "source = pd.read_csv('data/quora/test.csv')['question1']"
   ]
  },
  {
   "cell_type": "code",
   "execution_count": 71,
   "metadata": {
    "collapsed": true
   },
   "outputs": [],
   "source": [
    "source = [batch_loader.clean_str(s).split() for s in source]"
   ]
  },
  {
   "cell_type": "code",
   "execution_count": 91,
   "metadata": {
    "collapsed": true
   },
   "outputs": [],
   "source": [
    "target = np.load('logs/target_out.txt.npy')\n",
    "sampled = np.load('logs/sampled_out_120k_it.txt.npy')\n",
    "sampled = [s.split() for s in sampled]"
   ]
  },
  {
   "cell_type": "code",
   "execution_count": 85,
   "metadata": {},
   "outputs": [
    {
     "data": {
      "text/plain": [
       "(14927, 14927)"
      ]
     },
     "execution_count": 85,
     "metadata": {},
     "output_type": "execute_result"
    }
   ],
   "source": [
    "len(sampled), len(target)"
   ]
  },
  {
   "cell_type": "code",
   "execution_count": 92,
   "metadata": {
    "collapsed": true
   },
   "outputs": [],
   "source": [
    "sampled_list = [[s] for s in sampled]\n",
    "source_list = [[s] for s in source]"
   ]
  },
  {
   "cell_type": "code",
   "execution_count": 93,
   "metadata": {},
   "outputs": [
    {
     "data": {
      "text/plain": [
       "0.17298491220493"
      ]
     },
     "execution_count": 93,
     "metadata": {},
     "output_type": "execute_result"
    }
   ],
   "source": [
    "nltk.translate.bleu_score.corpus_bleu(list_of_references=sampled_list, hypotheses=target)"
   ]
  },
  {
   "cell_type": "code",
   "execution_count": 74,
   "metadata": {},
   "outputs": [
    {
     "data": {
      "text/plain": [
       "0.3165136610978137"
      ]
     },
     "execution_count": 74,
     "metadata": {},
     "output_type": "execute_result"
    }
   ],
   "source": [
    "nltk.translate.bleu_score.corpus_bleu(list_of_references=source_list, hypotheses=target)"
   ]
  },
  {
   "cell_type": "code",
   "execution_count": null,
   "metadata": {
    "collapsed": true
   },
   "outputs": [],
   "source": [
    "# 0.13 / 0.45 for dropout03"
   ]
  },
  {
   "cell_type": "code",
   "execution_count": 80,
   "metadata": {},
   "outputs": [
    {
     "data": {
      "text/plain": [
       "0.13591079205022005"
      ]
     },
     "execution_count": 80,
     "metadata": {},
     "output_type": "execute_result"
    }
   ],
   "source": [
    "compute_bleu(sampled_list, target)[0]"
   ]
  },
  {
   "cell_type": "code",
   "execution_count": 81,
   "metadata": {},
   "outputs": [
    {
     "data": {
      "text/plain": [
       "0.31651430526471414"
      ]
     },
     "execution_count": 81,
     "metadata": {},
     "output_type": "execute_result"
    }
   ],
   "source": [
    "compute_bleu(source_list, target)[0]"
   ]
  },
  {
   "cell_type": "code",
   "execution_count": null,
   "metadata": {
    "collapsed": true
   },
   "outputs": [],
   "source": [
    "# 0.17 for 120k it"
   ]
  },
  {
   "cell_type": "code",
   "execution_count": 8,
   "metadata": {},
   "outputs": [],
   "source": [
    "def get_bleu(model_name):\n",
    "    target = np.load('logs/target_out_{}.txt.npy'.format(model_name))\n",
    "    sampled = np.load('logs/sampled_out_{}.txt.npy'.format(model_name))\n",
    "    sampled = [s.split() for s in sampled]\n",
    "    sampled_list = [[s] for s in sampled]\n",
    "    return nltk.translate.bleu_score.corpus_bleu(list_of_references=sampled_list, hypotheses=target)"
   ]
  },
  {
   "cell_type": "code",
   "execution_count": 13,
   "metadata": {},
   "outputs": [
    {
     "data": {
      "text/plain": [
       "0.34492260761445054"
      ]
     },
     "execution_count": 13,
     "metadata": {},
     "output_type": "execute_result"
    }
   ],
   "source": [
    "get_bleu('likely_snli_quora_200k_800rnn') # greedy argmax(distr)"
   ]
  },
  {
   "cell_type": "code",
   "execution_count": 14,
   "metadata": {},
   "outputs": [
    {
     "data": {
      "text/plain": [
       "0.22437100288234993"
      ]
     },
     "execution_count": 14,
     "metadata": {},
     "output_type": "execute_result"
    }
   ],
   "source": [
    "get_bleu('snli_quora_200k_800rnn') # greedy sample words from distr"
   ]
  },
  {
   "cell_type": "code",
   "execution_count": 17,
   "metadata": {},
   "outputs": [
    {
     "data": {
      "text/plain": [
       "0.29395457639529404"
      ]
     },
     "execution_count": 17,
     "metadata": {},
     "output_type": "execute_result"
    }
   ],
   "source": [
    "get_bleu('snli_quora_150k_600rnn') # argmax "
   ]
  },
  {
   "cell_type": "code",
   "execution_count": 21,
   "metadata": {},
   "outputs": [
    {
     "data": {
      "text/plain": [
       "0.2955337574640947"
      ]
     },
     "execution_count": 21,
     "metadata": {},
     "output_type": "execute_result"
    }
   ],
   "source": [
    "get_bleu('quoraonly120kit600decrnn') # enc dec size  800-800"
   ]
  },
  {
   "cell_type": "code",
   "execution_count": 24,
   "metadata": {},
   "outputs": [
    {
     "data": {
      "text/plain": [
       "0.3366883062951258"
      ]
     },
     "execution_count": 24,
     "metadata": {},
     "output_type": "execute_result"
    }
   ],
   "source": [
    "get_bleu('snli_quora_250k_600_800rnn')"
   ]
  },
  {
   "cell_type": "code",
   "execution_count": 25,
   "metadata": {},
   "outputs": [
    {
     "data": {
      "text/plain": [
       "0.28146272197244904"
      ]
     },
     "execution_count": 25,
     "metadata": {},
     "output_type": "execute_result"
    }
   ],
   "source": [
    "get_bleu('vocab25k200kit') # quora only "
   ]
  },
  {
   "cell_type": "code",
   "execution_count": 26,
   "metadata": {},
   "outputs": [
    {
     "data": {
      "text/plain": [
       "0.29690194027274613"
      ]
     },
     "execution_count": 26,
     "metadata": {},
     "output_type": "execute_result"
    }
   ],
   "source": [
    "get_bleu('')  # quora only 20 k vocab"
   ]
  },
  {
   "cell_type": "code",
   "execution_count": 27,
   "metadata": {},
   "outputs": [
    {
     "data": {
      "text/plain": [
       "0.008046006471978197"
      ]
     },
     "execution_count": 27,
     "metadata": {},
     "output_type": "execute_result"
    }
   ],
   "source": [
    "get_bleu('mscoco_300kit_600_800')  "
   ]
  },
  {
   "cell_type": "code",
   "execution_count": 28,
   "metadata": {},
   "outputs": [
    {
     "data": {
      "text/plain": [
       "0.34931982519358146"
      ]
     },
     "execution_count": 28,
     "metadata": {},
     "output_type": "execute_result"
    }
   ],
   "source": [
    "get_bleu('snli_quora_250k800_1100')"
   ]
  },
  {
   "cell_type": "code",
   "execution_count": 40,
   "metadata": {},
   "outputs": [
    {
     "data": {
      "text/plain": [
       "(0.35977854040897983, 0.4059614049084522)"
      ]
     },
     "execution_count": 40,
     "metadata": {},
     "output_type": "execute_result"
    }
   ],
   "source": [
    "get_bleu('quora_coco_250kit_600_800'), get_bleu('mean_quora_coco_250kit_600_800')"
   ]
  },
  {
   "cell_type": "code",
   "execution_count": 38,
   "metadata": {},
   "outputs": [
    {
     "data": {
      "text/plain": [
       "(0.3681503620960147, 0.3275098509152493)"
      ]
     },
     "execution_count": 38,
     "metadata": {},
     "output_type": "execute_result"
    }
   ],
   "source": [
    "get_bleu('mean_quora_coco_200kit_600_600'), get_bleu('quora_coco_200kit_600_600')"
   ]
  },
  {
   "cell_type": "code",
   "execution_count": 39,
   "metadata": {},
   "outputs": [
    {
     "data": {
      "text/plain": [
       "(0.36532540141564973, 0.4114118515950588)"
      ]
     },
     "execution_count": 39,
     "metadata": {},
     "output_type": "execute_result"
    }
   ],
   "source": [
    "get_bleu('quora_coco_250k800_800'), get_bleu('mean_quora_coco_250k800_800')"
   ]
  },
  {
   "cell_type": "code",
   "execution_count": 36,
   "metadata": {},
   "outputs": [
    {
     "name": "stdout",
     "output_type": "stream",
     "text": [
      "logs/try_sampled_out_mean_quora_coco_200kit_600_600.txt.npy\r\n",
      "logs/try_target_out_mean_quora_coco_200kit_600_600.txt.npy\r\n"
     ]
    }
   ],
   "source": [
    "!ls logs/try*"
   ]
  },
  {
   "cell_type": "code",
   "execution_count": 23,
   "metadata": {},
   "outputs": [
    {
     "name": "stdout",
     "output_type": "stream",
     "text": [
      "-rw-rw-r-- 1 aleksey.zotov aleksey.zotov  9911656 Apr  6 15:41 logs/sampled_out_600.txt.npy\r\n",
      "-rw-rw-r-- 1 aleksey.zotov aleksey.zotov 10628152 Apr 22 15:38 logs/sampled_out_likely_snli_quora_200k_800rnn.txt.npy\r\n",
      "-rw-rw-r-- 1 aleksey.zotov aleksey.zotov  9851948 Apr 22 20:07 logs/sampled_out_quoraonly120kit600decrnn.txt.npy\r\n",
      "-rw-rw-r-- 1 aleksey.zotov aleksey.zotov 10150488 Apr 22 19:03 logs/sampled_out_snli_quora_150k_600rnn.txt.npy\r\n",
      "-rw-rw-r-- 1 aleksey.zotov aleksey.zotov 10508736 Apr 22 16:05 logs/sampled_out_snli_quora_200k_800rnn.txt.npy\r\n",
      "-rw-rw-r-- 1 aleksey.zotov aleksey.zotov  9314576 Apr 23 10:36 logs/sampled_out_snli_quora_250k_600_800rnn.txt.npy\r\n",
      "-rw-rw-r-- 1 aleksey.zotov aleksey.zotov 10269904 Apr  6 17:47 logs/sampled_out.txt.npy\r\n"
     ]
    }
   ],
   "source": [
    "!ls -l logs/sampled* "
   ]
  },
  {
   "cell_type": "code",
   "execution_count": null,
   "metadata": {},
   "outputs": [],
   "source": []
  }
 ],
 "metadata": {
  "kernelspec": {
   "display_name": "Python 3",
   "language": "python",
   "name": "python3"
  },
  "language_info": {
   "codemirror_mode": {
    "name": "ipython",
    "version": 3
   },
   "file_extension": ".py",
   "mimetype": "text/x-python",
   "name": "python",
   "nbconvert_exporter": "python",
   "pygments_lexer": "ipython3",
   "version": "3.6.4"
  }
 },
 "nbformat": 4,
 "nbformat_minor": 2
}
